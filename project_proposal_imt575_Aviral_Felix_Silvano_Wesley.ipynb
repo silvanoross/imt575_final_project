{
 "cells": [
  {
   "cell_type": "markdown",
   "metadata": {},
   "source": [
    "# Project Proposal \n",
    "### Team Members: Aviral Sah, Felix Zhao, Silvano Ross, Wesley Wang\n"
   ]
  },
  {
   "cell_type": "markdown",
   "metadata": {},
   "source": [
    "\n",
    "## 1. Executive Summary\n",
    "\n",
    "Our project aims to determine whether or not there is racial bias in medical LLM (Med-Palm-2 or OpenBioLLM-70B) recommendations for treatment. We will present the LLM with a diverse set of patients that have similar conditions/chief complaints and get a recommendation from the LLM. Then we'll check the statistical distance (Cohen's D) between two types of recommendations (intervention, non-intervention) for each race and determine if the LLM is giving different styles of answers for different races of people, which we hope it does not."
   ]
  },
  {
   "cell_type": "markdown",
   "metadata": {},
   "source": [
    "\n",
    "## 2. Problem Statement\n",
    "\n",
    "Is there a significant difference in initial diagnoses by LLMs used in healthcare between races and genders of people?\n"
   ]
  },
  {
   "cell_type": "markdown",
   "metadata": {},
   "source": [
    "\n",
    "## 3. Project Objectives\n",
    "\n",
    "List 3-5 specific, measurable goals for your project.\n",
    "Explain what success looks like for each objective.\n",
    "\n",
    "1. Find, create or use a combination of data sources to end up with ~1000-5000 patients who have race, gender, and an initial symptom they need medical advice on. A successful data pool will be an even representation of races with similar medical scenarios that will garner enough statistical power.\n",
    "\n",
    "2. \n",
    "\n",
    "3.\n",
    "\n",
    "4.\n",
    "\n",
    "5.\n"
   ]
  },
  {
   "cell_type": "markdown",
   "metadata": {},
   "source": [
    "\n",
    "## 4. Data Sources\n",
    "\n",
    "List all datasets you plan to use.\n",
    "For each dataset, include:\n",
    "- Source/origin\n",
    "- Size and format\n",
    "- Brief description of contents\n",
    "- Any known limitations or biases\n",
    "\n",
    "Med-Palm-2 LLM\n",
    "- Hugging Face\n",
    "- \n",
    "- \n",
    "- \n",
    "\n",
    "\n",
    "\n",
    "Describe how you'll acquire any data not yet in your possession.\n"
   ]
  },
  {
   "cell_type": "markdown",
   "metadata": {},
   "source": [
    "\n",
    "## 5. Methodology\n",
    "\n",
    "Detail your technical approach:\n",
    "- Data preprocessing steps\n",
    "- Exploratory data analysis techniques\n",
    "- Machine learning algorithms or statistical methods you'll apply\n",
    "- Evaluation metrics to assess performance\n",
    "\n",
    "Justify why your chosen methods are appropriate for the problem.\n"
   ]
  },
  {
   "cell_type": "markdown",
   "metadata": {},
   "source": [
    "\n",
    "## 6. Project Timeline\n",
    "\n",
    "1. Project Proposal\n",
    "    - Assigned: April 16th, 2025\n",
    "    - Due Date: April 30th, 2025\n",
    "    - Kareem gives us feedback which we then implement changes\n",
    "\n",
    "2.  Project Plan\n",
    "    - Assigned: April 30th, 2025\n",
    "    - Due Date: May 14th, 2025\n",
    "    - How did we implement changes suggested by Kareem\n",
    "\n",
    "3. Draft Project Presentations\n",
    "    - Assigned: May 14th 2025\n",
    "    - Due Date: May 23rd, 2025 (Friday)\n",
    "\n",
    "4. Presentations and Project Write Up\n",
    "    - Assigned: May 14th, 2025 (Due Week 10)\n",
    "    - Due Date: Wed May 28th and Wed June 4th, 2025"
   ]
  },
  {
   "cell_type": "markdown",
   "metadata": {},
   "source": [
    "\n",
    "## 7. Expected Results\n",
    "\n",
    "Describe anticipated findings or outcomes.\n",
    "Explain how results will address the problem statement.\n",
    "Potential limitations or caveats.\n",
    "\n",
    "\n"
   ]
  },
  {
   "cell_type": "markdown",
   "metadata": {},
   "source": [
    "\n",
    "## 8. Technical Requirements\n",
    "\n",
    "List software, libraries, and tools you'll use.\n",
    "Computational resources needed.\n",
    "Any specialized knowledge required.\n"
   ]
  },
  {
   "cell_type": "markdown",
   "metadata": {},
   "source": [
    "\n",
    "## 9. References\n",
    "\n",
    "Cite relevant literature, datasets, or previous work.\n",
    "\n",
    "This template should give you a solid foundation for your Data Science final project proposal.\n"
   ]
  }
 ],
 "metadata": {
  "language_info": {
   "name": "python"
  }
 },
 "nbformat": 4,
 "nbformat_minor": 2
}
